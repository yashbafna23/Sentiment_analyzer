{
  "nbformat": 4,
  "nbformat_minor": 0,
  "metadata": {
    "colab": {
      "name": "Sentiment_Analysis.ipynb",
      "provenance": [],
      "collapsed_sections": [],
      "authorship_tag": "ABX9TyNjBE0+Ax47B6DWrodxuDP9",
      "include_colab_link": true
    },
    "kernelspec": {
      "name": "python3",
      "display_name": "Python 3"
    },
    "accelerator": "GPU"
  },
  "cells": [
    {
      "cell_type": "markdown",
      "metadata": {
        "id": "view-in-github",
        "colab_type": "text"
      },
      "source": [
        "<a href=\"https://colab.research.google.com/github/fork52/Sentiment-Analyzer/blob/master/Sentiment_Analysis.ipynb\" target=\"_parent\"><img src=\"https://colab.research.google.com/assets/colab-badge.svg\" alt=\"Open In Colab\"/></a>"
      ]
    },
    {
      "cell_type": "markdown",
      "metadata": {
        "id": "sQ-E3DC65KXA",
        "colab_type": "text"
      },
      "source": [
        "##### Copyright 2020 Yash Bafna"
      ]
    },
    {
      "cell_type": "code",
      "metadata": {
        "cellView": "form",
        "colab_type": "code",
        "id": "vasWnqRgy1H4",
        "colab": {}
      },
      "source": [
        "#@title MIT License\n",
        "#\n",
        "# Copyright (c) 2020 Yash Bafna\n",
        "#\n",
        "# Permission is hereby granted, free of charge, to any person obtaining a\n",
        "# copy of this software and associated documentation files (the \"Software\"),\n",
        "# to deal in the Software without restriction, including without limitation\n",
        "# the rights to use, copy, modify, merge, publish, distribute, sublicense,\n",
        "# and/or sell copies of the Software, and to permit persons to whom the\n",
        "# Software is furnished to do so, subject to the following conditions:\n",
        "#\n",
        "# The above copyright notice and this permission notice shall be included in\n",
        "# all copies or substantial portions of the Software.\n",
        "#\n",
        "# THE SOFTWARE IS PROVIDED \"AS IS\", WITHOUT WARRANTY OF ANY KIND, EXPRESS OR\n",
        "# IMPLIED, INCLUDING BUT NOT LIMITED TO THE WARRANTIES OF MERCHANTABILITY,\n",
        "# FITNESS FOR A PARTICULAR PURPOSE AND NONINFRINGEMENT. IN NO EVENT SHALL\n",
        "# THE AUTHORS OR COPYRIGHT HOLDERS BE LIABLE FOR ANY CLAIM, DAMAGES OR OTHER\n",
        "# LIABILITY, WHETHER IN AN ACTION OF CONTRACT, TORT OR OTHERWISE, ARISING\n",
        "# FROM, OUT OF OR IN CONNECTION WITH THE SOFTWARE OR THE USE OR OTHER\n",
        "# DEALINGS IN THE SOFTWARE."
      ],
      "execution_count": null,
      "outputs": []
    },
    {
      "cell_type": "markdown",
      "metadata": {
        "id": "nNaXvrHT5uCA",
        "colab_type": "text"
      },
      "source": [
        "## Download the dataset"
      ]
    },
    {
      "cell_type": "code",
      "metadata": {
        "id": "iNMCUrzq2i1s",
        "colab_type": "code",
        "colab": {}
      },
      "source": [
        "!wget http://snap.stanford.edu/data/amazon/productGraph/categoryFiles/reviews_Apps_for_Android_5.json.gz"
      ],
      "execution_count": null,
      "outputs": []
    },
    {
      "cell_type": "markdown",
      "metadata": {
        "id": "_TOAo81c6Nev",
        "colab_type": "text"
      },
      "source": [
        "## Import Necessary Libraries\n"
      ]
    },
    {
      "cell_type": "code",
      "metadata": {
        "id": "mWbpXYla3MJ1",
        "colab_type": "code",
        "colab": {}
      },
      "source": [
        "from tensorflow.keras.preprocessing.text import Tokenizer\n",
        "from tensorflow.keras.preprocessing.sequence import pad_sequences\n",
        "import numpy as np\n",
        "import pandas as pd\n",
        "import gzip\n",
        "from sklearn.model_selection import train_test_split\n",
        "import tensorflow as tf"
      ],
      "execution_count": null,
      "outputs": []
    },
    {
      "cell_type": "markdown",
      "metadata": {
        "id": "vbjewky67iAt",
        "colab_type": "text"
      },
      "source": [
        "## Load the data in a dataframe"
      ]
    },
    {
      "cell_type": "code",
      "metadata": {
        "id": "BEIC1T3W8CNa",
        "colab_type": "code",
        "colab": {}
      },
      "source": [
        "def parse(path):\n",
        "  g = gzip.open(path, 'rb')\n",
        "  for l in g:\n",
        "    yield eval(l)\n",
        "\n",
        "def getDF(path):\n",
        "  i = 0\n",
        "  df = {}\n",
        "  for d in parse(path):\n",
        "    df[i] = d\n",
        "    i += 1\n",
        "  return pd.DataFrame.from_dict(df, orient='index')\n",
        "\n",
        "# load the dataframe in the variable df\n",
        "df = getDF('reviews_Apps_for_Android_5.json.gz')\n",
        "print( 'No of records:' , len(df) )"
      ],
      "execution_count": null,
      "outputs": []
    },
    {
      "cell_type": "code",
      "metadata": {
        "id": "4PJYUI1w8NQe",
        "colab_type": "code",
        "colab": {}
      },
      "source": [
        "df.head()"
      ],
      "execution_count": null,
      "outputs": []
    },
    {
      "cell_type": "markdown",
      "metadata": {
        "id": "oQ1KbI1k9E34",
        "colab_type": "text"
      },
      "source": [
        "## Taking a look at a few reviews.\n",
        "Change the index to see different reviews and their ratings."
      ]
    },
    {
      "cell_type": "code",
      "metadata": {
        "id": "6NANOugd8f67",
        "colab_type": "code",
        "colab": {}
      },
      "source": [
        "index = 41170 # Feel free to change the index\n",
        "print('Review:  ', df.iloc[index]['reviewText'])\n",
        "print('Summary:',df.iloc[index]['summary'])\n",
        "print('Ratings:',df.iloc[index]['overall'] )"
      ],
      "execution_count": null,
      "outputs": []
    },
    {
      "cell_type": "markdown",
      "metadata": {
        "id": "YZV8Eo-Z9TMf",
        "colab_type": "text"
      },
      "source": [
        "## Get Sentences and Get Labels\n"
      ]
    },
    {
      "cell_type": "code",
      "metadata": {
        "id": "qGp-IA-t9N2J",
        "colab_type": "code",
        "colab": {}
      },
      "source": [
        "from pprint import pprint\n",
        "def get_data(df):\n",
        "    sents = df['reviewText'].tolist()\n",
        "    ratings = list( map(lambda x:int(x)-1 ,df['overall'].tolist()) )\n",
        "    combined_data = list( zip( *[ sents , ratings]) )\n",
        "    combined_data = list( filter( lambda x : isinstance(x[0],str) ,combined_data) )\n",
        "    return list(zip(*combined_data))\n",
        "\n",
        "# Separate sentences and ratings\n",
        "fsentences ,fratings = get_data(df)"
      ],
      "execution_count": null,
      "outputs": []
    },
    {
      "cell_type": "markdown",
      "metadata": {
        "id": "WCPVZBVk-EAP",
        "colab_type": "text"
      },
      "source": [
        "## Train-Test split"
      ]
    },
    {
      "cell_type": "code",
      "metadata": {
        "id": "u1MJvXW19tHC",
        "colab_type": "code",
        "colab": {}
      },
      "source": [
        "# Split dataset in \n",
        "X_train, X_test, y_train, y_test=train_test_split(\n",
        "    sentences, ratings , test_size=0.05, random_state=42\n",
        ")\n",
        "\n",
        "print( 'No. of sentences in Training Set:', len(X_train) )\n",
        "print( 'No. of sentences in Testing Set:', len(X_test) )"
      ],
      "execution_count": null,
      "outputs": []
    },
    {
      "cell_type": "markdown",
      "metadata": {
        "id": "oLE9QhgV-n1I",
        "colab_type": "text"
      },
      "source": [
        "## Tokenize the string and perform padding on the string\n"
      ]
    },
    {
      "cell_type": "code",
      "metadata": {
        "id": "M2qem5ac-qGj",
        "colab_type": "code",
        "colab": {}
      },
      "source": [
        "# Set hyperparameters\n",
        "vocab_size = 20000\n",
        "embedding_dim = 32\n",
        "oov_tok = \"<OOV>\"\n",
        "trunc_type='post'\n",
        "max_length = 220\n",
        "padding_type='post'\n",
        "\n",
        "# Fit tokenizer on the training data\n",
        "tokenizer = Tokenizer(num_words = vocab_size, oov_token=oov_tok)\n",
        "tokenizer.fit_on_texts(X_train)\n",
        "word_index = tokenizer.word_index"
      ],
      "execution_count": null,
      "outputs": []
    },
    {
      "cell_type": "markdown",
      "metadata": {
        "id": "u2jU7zX2_HZc",
        "colab_type": "text"
      },
      "source": [
        "## Process the input sentences to indexed vectors of dimension (max_length , 1) each."
      ]
    },
    {
      "cell_type": "code",
      "metadata": {
        "id": "0du5cwnz_Ec9",
        "colab_type": "code",
        "colab": {}
      },
      "source": [
        "def prepare_input(X):\n",
        "    '''Get the padded sequences'''\n",
        "    sequences = tokenizer.texts_to_sequences(X)\n",
        "    padded = pad_sequences(\n",
        "                           sequences,\n",
        "                           maxlen=max_length,\n",
        "                           truncating=trunc_type,\n",
        "                           padding=padding_type\n",
        "                        )\n",
        "    return padded\n",
        "\n",
        " # Prepare testing and training data\n",
        "train_sent = prepare_input(X_train)\n",
        "testing_sent = prepare_input(X_test)"
      ],
      "execution_count": null,
      "outputs": []
    },
    {
      "cell_type": "markdown",
      "metadata": {
        "id": "NhpAYuej_lpl",
        "colab_type": "text"
      },
      "source": [
        "## Defining a model"
      ]
    },
    {
      "cell_type": "code",
      "metadata": {
        "id": "iIK0mYi4_mPb",
        "colab_type": "code",
        "colab": {}
      },
      "source": [
        "model = tf.keras.Sequential([\n",
        "    tf.keras.layers.Embedding(vocab_size, embedding_dim,input_length=max_length,name='Embed_Layer'),\n",
        "    tf.keras.layers.Bidirectional(tf.keras.layers.LSTM(64, return_sequences=True,),name='BiLSTM_Layer1'),\n",
        "    tf.keras.layers.Bidirectional(tf.keras.layers.LSTM(32),name='BiLSTM_Layer2'),\n",
        "    tf.keras.layers.Dense(128, activation='relu',name='Dense_Layer1'),\n",
        "    tf.keras.layers.Dropout(0.3,name='Dropout_layer'),\n",
        "    tf.keras.layers.Dense(5, activation='softmax',name='Output_Layer')\n",
        "])\n",
        "\n",
        "model.compile(loss='sparse_categorical_crossentropy',optimizer='adam',metrics=['accuracy'])\n",
        "model.summary()"
      ],
      "execution_count": null,
      "outputs": []
    },
    {
      "cell_type": "markdown",
      "metadata": {
        "id": "VDdw7kCs_wer",
        "colab_type": "text"
      },
      "source": [
        "## Training the model\n",
        "\n",
        "Might take a while to train depending upon the no of epochs\n"
      ]
    },
    {
      "cell_type": "code",
      "metadata": {
        "id": "NBK5dpsu_1SP",
        "colab_type": "code",
        "colab": {}
      },
      "source": [
        "num_epochs = 5\n",
        "model.fit(\n",
        "          train_sent, \n",
        "          np.array(y_train),\n",
        "          batch_size=1000,\n",
        "          epochs=num_epochs, \n",
        "          validation_data=( testing_sent , np.array(y_test) )\n",
        ")"
      ],
      "execution_count": null,
      "outputs": []
    },
    {
      "cell_type": "markdown",
      "metadata": {
        "id": "OvgTJ2qV_980",
        "colab_type": "text"
      },
      "source": [
        "## Try the model on new sentences"
      ]
    },
    {
      "cell_type": "code",
      "metadata": {
        "id": "aHOre_Eg_9hz",
        "colab_type": "code",
        "colab": {}
      },
      "source": [
        "# Try it on new sentences\n",
        "new_sent = 'The product pretty good and I love it.'\n",
        "new_sent = [new_sent]\n",
        "new_data = prepare_input(new_sent)\n",
        "rating = np.argmax( model.predict(new_data) ) + 1\n",
        "print('Your sentence:',new_sent[0] )\n",
        "print('Rating given by model is:',rating)"
      ],
      "execution_count": null,
      "outputs": []
    }
  ]
}
